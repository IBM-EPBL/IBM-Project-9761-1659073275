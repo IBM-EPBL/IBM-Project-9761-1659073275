{
  "nbformat": 4,
  "nbformat_minor": 0,
  "metadata": {
    "colab": {
      "provenance": []
    },
    "kernelspec": {
      "name": "python3",
      "display_name": "Python 3"
    },
    "language_info": {
      "name": "python"
    }
  },
  "cells": [
    {
      "cell_type": "markdown",
      "source": [
        "***Numpy:***\n",
        "\n",
        "It is an open-source numerical Python library. It contains a multi-dimensional array and matrix data structures. It can be used to perform mathematical operations on arrays such as trigonometric, statistical, and algebraic routines.\n",
        "\n",
        "Pandas- It is a fast, powerful, flexible, and easy to use open-source data analysis and manipulation tool, built on top of the Python programming language.\n",
        "\n",
        "Matplotlib- Visualisation with python. It is a comprehensive library for creating static, animated, and interactive visualizations in Python."
      ],
      "metadata": {
        "id": "cY-mHlicLHSU"
      }
    },
    {
      "cell_type": "code",
      "source": [
        "import pandas as pd\n",
        "import numpy as np\n",
        "import matplotlib.pyplot as plt"
      ],
      "metadata": {
        "id": "JEMTtRY1LNg1"
      },
      "execution_count": 1,
      "outputs": []
    }
  ]
}